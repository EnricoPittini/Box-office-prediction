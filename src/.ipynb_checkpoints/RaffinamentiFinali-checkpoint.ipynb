{
 "cells": [
  {
   "cell_type": "markdown",
   "metadata": {},
   "source": [
    "# PROGETTO"
   ]
  },
  {
   "cell_type": "markdown",
   "metadata": {},
   "source": [
    "# RAFFINAMENTI FINALI"
   ]
  },
  {
   "cell_type": "markdown",
   "metadata": {},
   "source": [
    "Negli scorsi notebook ho lavorato e inserito varie feature nel dataset, ottenendo alla fine un modello random forest che prende in considerazione 62 feature. In questo ultimo notebook non inserisco nuove feature, ma cerco di fare dei miglioramenti finali."
   ]
  },
  {
   "cell_type": "markdown",
   "metadata": {},
   "source": [
    "### FUNZIONI VALUTAZIONE E SELEZIONE MODELLI\n",
    "\n",
    "Importo le **funzioni per la valutazione e selezione dei modelli**. "
   ]
  },
  {
   "cell_type": "code",
   "execution_count": 1,
   "metadata": {},
   "outputs": [],
   "source": [
    "from valutazione_modelli import compute_train_val_test, model_selection_TrainValTest, compute_bias_variance_error, \\\n",
    "                                                                model_selection_BiasVarianceError"
   ]
  },
  {
   "cell_type": "markdown",
   "metadata": {},
   "source": [
    "### RICOSTRUZIONE MODELLO"
   ]
  },
  {
   "cell_type": "markdown",
   "metadata": {},
   "source": [
    "Ricostruisco il dataset a cui ero arrivato."
   ]
  },
  {
   "cell_type": "code",
   "execution_count": 2,
   "metadata": {},
   "outputs": [],
   "source": [
    "from lavorazione_dataset_NumCatData import cleaning_data_numeric, add_categorial, add_language_1, add_data_6\n",
    "import pandas as pd\n",
    "\n",
    "dataframe, df, y = cleaning_data_numeric()\n",
    "\n",
    "newdf = add_categorial(dataframe)\n",
    "df = pd.concat([df,newdf],axis=1)\n",
    "\n",
    "newdf = add_language_1(dataframe)\n",
    "df = pd.concat([df,newdf],axis=1)\n",
    "\n",
    "newdf = add_data_6(dataframe)\n",
    "df = pd.concat([df,newdf],axis=1)\n",
    "\n",
    "from lavorazione_dataset_InsText import add_genre_1\n",
    "\n",
    "newdf_1 = add_genre_1(dataframe,k=9) \n",
    "\n",
    "df = pd.concat([df,newdf_1],axis=1) \n",
    "\n",
    "from lavorazione_dataset_InsText import add_key\n",
    "\n",
    "newdf_2 = add_key(dataframe,k=8) \n",
    "\n",
    "df = pd.concat([df,newdf_2],axis=1)\n",
    "\n",
    "from lavorazione_dataset_InsText import add_cast\n",
    "\n",
    "newdf_1 = add_cast(dataframe,k=12) \n",
    "\n",
    "df = pd.concat([df,newdf_1],axis=1)\n",
    "\n",
    "from lavorazione_dataset_InsText import add_crew\n",
    "\n",
    "newdf_2 = add_crew(dataframe,k=6) \n",
    "\n",
    "df = pd.concat([df,newdf_2],axis=1)\n",
    "\n",
    "from lavorazione_dataset_InsText import add_title\n",
    "\n",
    "newdf_2 = add_title(dataframe,k=6) \n",
    "\n",
    "df = pd.concat([df,newdf_2],axis=1)\n",
    "\n",
    "from lavorazione_dataset_InsText import add_tagline\n",
    "\n",
    "newdf_2 = add_tagline(dataframe,k=6) \n",
    "\n",
    "df = pd.concat([df,newdf_2],axis=1)\n",
    "\n",
    "from lavorazione_dataset_InsText import add_overview_1\n",
    "\n",
    "newdf_3 = add_overview_1(dataframe,k=3) \n",
    "\n",
    "df = pd.concat([df,newdf_3],axis=1)"
   ]
  },
  {
   "cell_type": "markdown",
   "metadata": {},
   "source": [
    "Modello a cui ero arrivato (random forest con 79 alberi)."
   ]
  },
  {
   "cell_type": "code",
   "execution_count": 3,
   "metadata": {},
   "outputs": [],
   "source": [
    "from sklearn.ensemble import RandomForestRegressor\n",
    "\n",
    "model = RandomForestRegressor(n_estimators=79)"
   ]
  },
  {
   "cell_type": "markdown",
   "metadata": {},
   "source": [
    "# FEATURE SELECTION"
   ]
  },
  {
   "cell_type": "markdown",
   "metadata": {},
   "source": [
    "Come primo raffinamento procediamo con la feature selection. Usiamo la recursive feature elimination con cross validation : RFECV."
   ]
  },
  {
   "cell_type": "code",
   "execution_count": 4,
   "metadata": {},
   "outputs": [
    {
     "data": {
      "text/plain": [
       "RFECV(cv=5, estimator=RandomForestRegressor(n_estimators=79),\n",
       "      scoring='neg_mean_squared_error')"
      ]
     },
     "execution_count": 4,
     "metadata": {},
     "output_type": "execute_result"
    }
   ],
   "source": [
    "from sklearn.feature_selection import RFECV\n",
    "\n",
    "# Costruisco l'oggetto selettore di feature. GLi passo il modello, il numero di feature da eliminare ad ogni step, il numero di\n",
    "# fold per la cross validation, lo score da usare e il minimo numero di feature da andare a testare.\n",
    "selector = RFECV(model, step=1, cv=5, scoring='neg_mean_squared_error', min_features_to_select=1)\n",
    "\n",
    "# Passo il dataset.\n",
    "selector.fit(df.values,y)"
   ]
  },
  {
   "cell_type": "code",
   "execution_count": 5,
   "metadata": {},
   "outputs": [
    {
     "name": "stdout",
     "output_type": "stream",
     "text": [
      "Numero di feature selezionate:  48\n",
      "\n",
      "Feature selezionate:  ['budget', 'budget_dummy', 'popularity', 'runtime', 'belongs_to_collection', 'homepage', 'original_language', 'year', 'month_group_1', 'month_group_2', 'month_group_3', 'Drama', 'Comedy', 'Thriller', 'Action', 'Romance', 'Crime', 'Adventure', 'Horror', 'Science Fiction', 'other_genre', 'woman director', 'duringcreditsstinger', 'based on novel', 'violence', 'sport', 'biography', 'Samuel L. Jackson', 'Morgan Freeman', 'J.K. Simmons', 'Bruce Willis', 'John Turturro', 'Willem Dafoe', 'Deborah Aquila', 'James Newton Howard', 'Jerry Goldsmith', 'Mary Vernieu', '2_title', 'last_title', 'one_tagline', 'love_tagline', 'life_tagline', 'story_tagline', 'world_tagline', 'get_tagline', 'life_overview', 'find_overview', 'young_overview']\n",
      "\n",
      "Feature eliminate:  ['independent film', 'murder', 'Robert De Niro', 'Liam Neeson', 'Susan Sarandon', 'Bruce McGill', 'Forest Whitaker', 'Bill Murray', 'Avy Kaufman', 'Francine Maisler', '&_title', 'man_title', 'love_title', 'life_title']\n"
     ]
    }
   ],
   "source": [
    "import numpy as np\n",
    "\n",
    "print(\"Numero di feature selezionate: \",selector.n_features_)\n",
    "print()\n",
    "\n",
    "print(\"Feature selezionate: \",list(df.columns[selector.support_]))\n",
    "print()\n",
    "\n",
    "print(\"Feature eliminate: \",list(df.columns[np.logical_not(selector.support_)]))"
   ]
  },
  {
   "cell_type": "markdown",
   "metadata": {},
   "source": [
    "Come si vede, sono state eliminate 14 feature. 7 di queste sono attori, 2 parole chiave, 2 membri del cast e 3 parole nel titolo. Il resto delle feature è tenuto.\n",
    "\n",
    "48 features tenute.\n",
    "\n",
    "Riportiamo ciò sul nostro dataframe."
   ]
  },
  {
   "cell_type": "code",
   "execution_count": 6,
   "metadata": {},
   "outputs": [],
   "source": [
    "df = df.loc[:,selector.support_]"
   ]
  },
  {
   "cell_type": "code",
   "execution_count": 55,
   "metadata": {},
   "outputs": [
    {
     "name": "stdout",
     "output_type": "stream",
     "text": [
      "<class 'pandas.core.frame.DataFrame'>\n",
      "Int64Index: 2943 entries, 0 to 2999\n",
      "Data columns (total 48 columns):\n",
      " #   Column                 Non-Null Count  Dtype  \n",
      "---  ------                 --------------  -----  \n",
      " 0   budget                 2943 non-null   float64\n",
      " 1   budget_dummy           2943 non-null   int32  \n",
      " 2   popularity             2943 non-null   float64\n",
      " 3   runtime                2943 non-null   float64\n",
      " 4   belongs_to_collection  2943 non-null   int32  \n",
      " 5   homepage               2943 non-null   int32  \n",
      " 6   original_language      2943 non-null   int32  \n",
      " 7   year                   2943 non-null   int64  \n",
      " 8   month_group_1          2943 non-null   uint8  \n",
      " 9   month_group_2          2943 non-null   uint8  \n",
      " 10  month_group_3          2943 non-null   uint8  \n",
      " 11  Drama                  2943 non-null   int32  \n",
      " 12  Comedy                 2943 non-null   int32  \n",
      " 13  Thriller               2943 non-null   int32  \n",
      " 14  Action                 2943 non-null   int32  \n",
      " 15  Romance                2943 non-null   int32  \n",
      " 16  Crime                  2943 non-null   int32  \n",
      " 17  Adventure              2943 non-null   int32  \n",
      " 18  Horror                 2943 non-null   int32  \n",
      " 19  Science Fiction        2943 non-null   int32  \n",
      " 20  other_genre            2943 non-null   int32  \n",
      " 21  woman director         2943 non-null   int32  \n",
      " 22  duringcreditsstinger   2943 non-null   int32  \n",
      " 23  based on novel         2943 non-null   int32  \n",
      " 24  violence               2943 non-null   int32  \n",
      " 25  sport                  2943 non-null   int32  \n",
      " 26  biography              2943 non-null   int32  \n",
      " 27  Samuel L. Jackson      2943 non-null   int32  \n",
      " 28  Morgan Freeman         2943 non-null   int32  \n",
      " 29  J.K. Simmons           2943 non-null   int32  \n",
      " 30  Bruce Willis           2943 non-null   int32  \n",
      " 31  John Turturro          2943 non-null   int32  \n",
      " 32  Willem Dafoe           2943 non-null   int32  \n",
      " 33  Deborah Aquila         2943 non-null   int32  \n",
      " 34  James Newton Howard    2943 non-null   int32  \n",
      " 35  Jerry Goldsmith        2943 non-null   int32  \n",
      " 36  Mary Vernieu           2943 non-null   int32  \n",
      " 37  2_title                2943 non-null   int32  \n",
      " 38  last_title             2943 non-null   int32  \n",
      " 39  one_tagline            2943 non-null   int32  \n",
      " 40  love_tagline           2943 non-null   int32  \n",
      " 41  life_tagline           2943 non-null   int32  \n",
      " 42  story_tagline          2943 non-null   int32  \n",
      " 43  world_tagline          2943 non-null   int32  \n",
      " 44  get_tagline            2943 non-null   int32  \n",
      " 45  life_overview          2943 non-null   int32  \n",
      " 46  find_overview          2943 non-null   int32  \n",
      " 47  young_overview         2943 non-null   int32  \n",
      "dtypes: float64(3), int32(41), int64(1), uint8(3)\n",
      "memory usage: 594.9 KB\n"
     ]
    }
   ],
   "source": [
    "df.info()"
   ]
  },
  {
   "cell_type": "markdown",
   "metadata": {},
   "source": [
    "# BAGGING/BOOSTING"
   ]
  },
  {
   "cell_type": "markdown",
   "metadata": {},
   "source": [
    "Come secondo raffinamento facciamo baggin/boosting del modello per migliorarne lo score.\n",
    "\n",
    "La random forest effettua già di suo il bagging. Però cerchiamo di migliorare facendo boosting.\n",
    "\n",
    "Vediamo innanzitutto il bias di tale modello."
   ]
  },
  {
   "cell_type": "code",
   "execution_count": 14,
   "metadata": {},
   "outputs": [
    {
     "name": "stdout",
     "output_type": "stream",
     "text": [
      "Bias:  0.0010599127799521177\n",
      "Variance:  0.0004732220391563052\n",
      "Error:  0.0015331348191084228\n"
     ]
    }
   ],
   "source": [
    "from sklearn.ensemble import RandomForestRegressor\n",
    "\n",
    "model = RandomForestRegressor(n_estimators=79)\n",
    "\n",
    "bias,variance,error = compute_bias_variance_error(model ,df.values ,y)\n",
    "\n",
    "print(\"Bias: \",bias)\n",
    "print(\"Variance: \",variance)\n",
    "print(\"Error: \",error)"
   ]
  },
  {
   "cell_type": "markdown",
   "metadata": {},
   "source": [
    "Il bias è più alto della variance. Dunque va bene fare boosting."
   ]
  },
  {
   "cell_type": "code",
   "execution_count": 48,
   "metadata": {},
   "outputs": [
    {
     "name": "stdout",
     "output_type": "stream",
     "text": [
      "MSE migliore:  0.002545880252134759  | k:  4\n"
     ]
    },
    {
     "data": {
      "image/png": "[encoded data removed]",
      "text/plain": [
       "<Figure size 432x432 with 1 Axes>"
      ]
     },
     "metadata": {
      "needs_background": "light"
     },
     "output_type": "display_data"
    }
   ],
   "source": [
    "from sklearn.ensemble import AdaBoostRegressor\n",
    "from sklearn.ensemble import RandomForestRegressor\n",
    "\n",
    "model = RandomForestRegressor(n_estimators=79)\n",
    "\n",
    "# Vari modelli adaboost, con diverso numero di foreste.\n",
    "models = [AdaBoostRegressor(model,n_estimators=k) for k in range(1,30)]\n",
    "\n",
    "list_trainValTest , best_model = model_selection_TrainValTest(models, df.values, y, plotta=True, plottaTrain=True, \n",
    "                                            plottaTest=True, xvalues=range(1,30), xlabel=\"Numero modelli\",\n",
    "                                            title=\"Valutazione modelli boosting con score sul training/validation/test\" )\n",
    "\n",
    "print(\"MSE migliore: \",list_trainValTest[best_model][1],\" | k: \",list(range(1,30))[best_model])"
   ]
  },
  {
   "cell_type": "markdown",
   "metadata": {},
   "source": [
    "**Lo score è migliorato! MSE :  0.002546. Prendiamo come nuovo modello migliore modello adaboost con 4 random forest (ciascuna con 79 alberi).**"
   ]
  },
  {
   "cell_type": "markdown",
   "metadata": {},
   "source": [
    "Vediamo, per curiosità, l'impatto del boosting su Bias/Variance/Error."
   ]
  },
  {
   "cell_type": "code",
   "execution_count": 7,
   "metadata": {},
   "outputs": [
    {
     "name": "stdout",
     "output_type": "stream",
     "text": [
      "MSE migliore:  0.0006233017188880453  | k:  25\n"
     ]
    },
    {
     "data": {
      "image/png": "[encoded data removed]",
      "text/plain": [
       "<Figure size 432x432 with 1 Axes>"
      ]
     },
     "metadata": {
      "needs_background": "light"
     },
     "output_type": "display_data"
    }
   ],
   "source": [
    "from sklearn.ensemble import AdaBoostRegressor\n",
    "from sklearn.ensemble import RandomForestRegressor\n",
    "\n",
    "model = RandomForestRegressor(n_estimators=79)\n",
    "\n",
    "# Vari modelli adaboost, con diverso numero di foreste.\n",
    "models = [AdaBoostRegressor(model,n_estimators=k) for k in range(1,30)]\n",
    "\n",
    "\n",
    "list_trainValTest , best_model = model_selection_BiasVarianceError(models, df.values, y, plotta=True, xvalues=range(1,30), \n",
    "                                                              xlabel=\"Numero modelli\",\n",
    "                                            title=\"Valutazione modelli boosting con Bias/variance/Error\" )\n",
    "\n",
    "print(\"MSE migliore: \",list_trainValTest[best_model][1],\" | k: \",list(range(1,30))[best_model])"
   ]
  },
  {
   "cell_type": "markdown",
   "metadata": {},
   "source": [
    "# DARE PESO ALLE ISTANZE"
   ]
  },
  {
   "cell_type": "markdown",
   "metadata": {},
   "source": [
    "Come terzo raffinamento proviamo a dare diversi pesi alle istanze del dataset. \n",
    "\n",
    "Diamo un peso che sia proporzionale al guadagno di quel film. In particolare diamo come peso proprio il revenue, scalato con il MinMaxScaler. "
   ]
  },
  {
   "cell_type": "code",
   "execution_count": 49,
   "metadata": {},
   "outputs": [],
   "source": [
    "import numpy as np\n",
    "\n",
    "weights = np.array([ y[i] for i in range(y.shape[0])])"
   ]
  },
  {
   "cell_type": "code",
   "execution_count": 53,
   "metadata": {},
   "outputs": [
    {
     "name": "stdout",
     "output_type": "stream",
     "text": [
      "MSE:  0.0026949706495682122\n"
     ]
    }
   ],
   "source": [
    "from sklearn.ensemble import AdaBoostRegressor\n",
    "from sklearn.ensemble import RandomForestRegressor\n",
    "from sklearn.metrics import mean_squared_error\n",
    "from sklearn.model_selection import train_test_split\n",
    "from sklearn.model_selection import cross_val_score\n",
    "\n",
    "rf = RandomForestRegressor(n_estimators=79)\n",
    "model = AdaBoostRegressor(rf,n_estimators=4)\n",
    "\n",
    "X = df.values\n",
    "\n",
    "X_train_80, X_test, y_train_80, y_test = train_test_split(X, y, test_size=0.2, random_state=123)\n",
    "weights_train, weights_test = train_test_split(weights, test_size=0.2)\n",
    "\n",
    "\n",
    "scores = cross_val_score(model, X_train_80, y_train_80, cv=5, scoring=\"neg_mean_squared_error\", \n",
    "                                     fit_params={\"sample_weight\":weights_train})\n",
    "val_acc = scores.mean() # score sul validation\n",
    "val_acc = -val_acc\n",
    "\n",
    "print(\"MSE: \",val_acc)"
   ]
  },
  {
   "cell_type": "markdown",
   "metadata": {},
   "source": [
    "Lo score non è migliorato. Non prendiamo dunque in considerazione questa strada."
   ]
  },
  {
   "cell_type": "markdown",
   "metadata": {},
   "source": [
    "# MODELLO FINALE E ANALISI DELLE ISTANZE CATTIVE/BUONE"
   ]
  },
  {
   "cell_type": "markdown",
   "metadata": {},
   "source": [
    "Dunque questo è il nostro dataset finale. 48 features."
   ]
  },
  {
   "cell_type": "code",
   "execution_count": 55,
   "metadata": {},
   "outputs": [
    {
     "name": "stdout",
     "output_type": "stream",
     "text": [
      "<class 'pandas.core.frame.DataFrame'>\n",
      "Int64Index: 2943 entries, 0 to 2999\n",
      "Data columns (total 48 columns):\n",
      " #   Column                 Non-Null Count  Dtype  \n",
      "---  ------                 --------------  -----  \n",
      " 0   budget                 2943 non-null   float64\n",
      " 1   budget_dummy           2943 non-null   int32  \n",
      " 2   popularity             2943 non-null   float64\n",
      " 3   runtime                2943 non-null   float64\n",
      " 4   belongs_to_collection  2943 non-null   int32  \n",
      " 5   homepage               2943 non-null   int32  \n",
      " 6   original_language      2943 non-null   int32  \n",
      " 7   year                   2943 non-null   int64  \n",
      " 8   month_group_1          2943 non-null   uint8  \n",
      " 9   month_group_2          2943 non-null   uint8  \n",
      " 10  month_group_3          2943 non-null   uint8  \n",
      " 11  Drama                  2943 non-null   int32  \n",
      " 12  Comedy                 2943 non-null   int32  \n",
      " 13  Thriller               2943 non-null   int32  \n",
      " 14  Action                 2943 non-null   int32  \n",
      " 15  Romance                2943 non-null   int32  \n",
      " 16  Crime                  2943 non-null   int32  \n",
      " 17  Adventure              2943 non-null   int32  \n",
      " 18  Horror                 2943 non-null   int32  \n",
      " 19  Science Fiction        2943 non-null   int32  \n",
      " 20  other_genre            2943 non-null   int32  \n",
      " 21  woman director         2943 non-null   int32  \n",
      " 22  duringcreditsstinger   2943 non-null   int32  \n",
      " 23  based on novel         2943 non-null   int32  \n",
      " 24  violence               2943 non-null   int32  \n",
      " 25  sport                  2943 non-null   int32  \n",
      " 26  biography              2943 non-null   int32  \n",
      " 27  Samuel L. Jackson      2943 non-null   int32  \n",
      " 28  Morgan Freeman         2943 non-null   int32  \n",
      " 29  J.K. Simmons           2943 non-null   int32  \n",
      " 30  Bruce Willis           2943 non-null   int32  \n",
      " 31  John Turturro          2943 non-null   int32  \n",
      " 32  Willem Dafoe           2943 non-null   int32  \n",
      " 33  Deborah Aquila         2943 non-null   int32  \n",
      " 34  James Newton Howard    2943 non-null   int32  \n",
      " 35  Jerry Goldsmith        2943 non-null   int32  \n",
      " 36  Mary Vernieu           2943 non-null   int32  \n",
      " 37  2_title                2943 non-null   int32  \n",
      " 38  last_title             2943 non-null   int32  \n",
      " 39  one_tagline            2943 non-null   int32  \n",
      " 40  love_tagline           2943 non-null   int32  \n",
      " 41  life_tagline           2943 non-null   int32  \n",
      " 42  story_tagline          2943 non-null   int32  \n",
      " 43  world_tagline          2943 non-null   int32  \n",
      " 44  get_tagline            2943 non-null   int32  \n",
      " 45  life_overview          2943 non-null   int32  \n",
      " 46  find_overview          2943 non-null   int32  \n",
      " 47  young_overview         2943 non-null   int32  \n",
      "dtypes: float64(3), int32(41), int64(1), uint8(3)\n",
      "memory usage: 594.9 KB\n"
     ]
    }
   ],
   "source": [
    "df.info()"
   ]
  },
  {
   "cell_type": "markdown",
   "metadata": {},
   "source": [
    "E questo è il nostro modello finale."
   ]
  },
  {
   "cell_type": "code",
   "execution_count": 54,
   "metadata": {},
   "outputs": [],
   "source": [
    "from sklearn.ensemble import AdaBoostRegressor\n",
    "from sklearn.ensemble import RandomForestRegressor\n",
    "\n",
    "rf = RandomForestRegressor(n_estimators=79)\n",
    "model = AdaBoostRegressor(rf,n_estimators=4)"
   ]
  },
  {
   "cell_type": "markdown",
   "metadata": {},
   "source": [
    "**Valutiamo finalmente lo score sul test set.**"
   ]
  },
  {
   "cell_type": "code",
   "execution_count": 56,
   "metadata": {},
   "outputs": [
    {
     "name": "stdout",
     "output_type": "stream",
     "text": [
      "MSE :  0.0022242789493322934\n"
     ]
    }
   ],
   "source": [
    "train, val, test = compute_train_val_test(model, df.values, y)\n",
    "\n",
    "print(\"MSE : \",test)"
   ]
  },
  {
   "cell_type": "markdown",
   "metadata": {},
   "source": [
    "**SCORE FINALE SUL TEST SET: 0.00222**"
   ]
  },
  {
   "cell_type": "markdown",
   "metadata": {},
   "source": [
    "### ANALISI ISTANZE CATTIVE/BUONE"
   ]
  },
  {
   "cell_type": "markdown",
   "metadata": {},
   "source": [
    "Come ultima analisi, diamo un'occhiata alle istanze del test set in cui il modello va male e quelle in cui modello va bene."
   ]
  },
  {
   "cell_type": "code",
   "execution_count": 57,
   "metadata": {},
   "outputs": [],
   "source": [
    "import numpy as np\n",
    "from sklearn.model_selection import train_test_split\n",
    "\n",
    "X = df.values\n",
    "\n",
    "X_train, X_test, y_train, y_test = train_test_split(X, y, test_size=0.2, random_state=123)\n",
    "model.fit(X_train,y_train)\n",
    "\n",
    "y_pred = model.predict(X_test) # predizioni sul test set"
   ]
  },
  {
   "cell_type": "code",
   "execution_count": 61,
   "metadata": {},
   "outputs": [],
   "source": [
    "# film del test set ordinati in modo descrescente rispetto all'errore della predizione sul revenue.\n",
    "# Ovvero sono ordinati in modo crescente rispetto bontà predizione.\n",
    "films_sorted = np.argsort((y_test-y_pred)**2.0)[::-1]  "
   ]
  },
  {
   "cell_type": "code",
   "execution_count": 64,
   "metadata": {},
   "outputs": [],
   "source": [
    "# Indici reali di tali film (non c'è corrispondenza diretta perchè ho dovuto eliminare qualche film, come i film con \n",
    "# revenue<=1000)\n",
    "films_sorted_1 = df.index.values[films_sorted]"
   ]
  },
  {
   "cell_type": "markdown",
   "metadata": {},
   "source": [
    "Vediamo i film con peggiore predizione"
   ]
  },
  {
   "cell_type": "code",
   "execution_count": 90,
   "metadata": {
    "scrolled": true
   },
   "outputs": [
    {
     "data": {
      "text/html": [
       "<div>\n",
       "<style scoped>\n",
       "    .dataframe tbody tr th:only-of-type {\n",
       "        vertical-align: middle;\n",
       "    }\n",
       "\n",
       "    .dataframe tbody tr th {\n",
       "        vertical-align: top;\n",
       "    }\n",
       "\n",
       "    .dataframe thead th {\n",
       "        text-align: right;\n",
       "    }\n",
       "</style>\n",
       "<table border=\"1\" class=\"dataframe\">\n",
       "  <thead>\n",
       "    <tr style=\"text-align: right;\">\n",
       "      <th></th>\n",
       "      <th>id</th>\n",
       "      <th>belongs_to_collection</th>\n",
       "      <th>budget</th>\n",
       "      <th>genres</th>\n",
       "      <th>homepage</th>\n",
       "      <th>imdb_id</th>\n",
       "      <th>original_language</th>\n",
       "      <th>original_title</th>\n",
       "      <th>overview</th>\n",
       "      <th>popularity</th>\n",
       "      <th>...</th>\n",
       "      <th>release_date</th>\n",
       "      <th>runtime</th>\n",
       "      <th>spoken_languages</th>\n",
       "      <th>status</th>\n",
       "      <th>tagline</th>\n",
       "      <th>title</th>\n",
       "      <th>Keywords</th>\n",
       "      <th>cast</th>\n",
       "      <th>crew</th>\n",
       "      <th>revenue</th>\n",
       "    </tr>\n",
       "  </thead>\n",
       "  <tbody>\n",
       "    <tr>\n",
       "      <th>140</th>\n",
       "      <td>141</td>\n",
       "      <td>NaN</td>\n",
       "      <td>14320000</td>\n",
       "      <td>[{'id': 18, 'name': 'Drama'}, {'id': 10402, 'n...</td>\n",
       "      <td>NaN</td>\n",
       "      <td>tt0063642</td>\n",
       "      <td>en</td>\n",
       "      <td>Star!</td>\n",
       "      <td>Gertrude Lawrence rises to stage stardom at th...</td>\n",
       "      <td>0.585397</td>\n",
       "      <td>...</td>\n",
       "      <td>7/18/68</td>\n",
       "      <td>176.0</td>\n",
       "      <td>[{'iso_639_1': 'en', 'name': 'English'}]</td>\n",
       "      <td>Released</td>\n",
       "      <td>Happiness is a girl called Julie!</td>\n",
       "      <td>Star!</td>\n",
       "      <td>[{'id': 4344, 'name': 'musical'}, {'id': 12990...</td>\n",
       "      <td>[{'cast_id': 3, 'character': 'Gertrude Lawrenc...</td>\n",
       "      <td>[{'credit_id': '52fe484bc3a36847f81602c9', 'de...</td>\n",
       "      <td>14000000</td>\n",
       "    </tr>\n",
       "    <tr>\n",
       "      <th>73</th>\n",
       "      <td>74</td>\n",
       "      <td>NaN</td>\n",
       "      <td>0</td>\n",
       "      <td>[{'id': 80, 'name': 'Crime'}, {'id': 99, 'name...</td>\n",
       "      <td>http://www.ceskatelevize.cz/specialy/ceskysen/en/</td>\n",
       "      <td>tt0402906</td>\n",
       "      <td>cs</td>\n",
       "      <td>Český sen</td>\n",
       "      <td>Two students from the Czech Film Academy commi...</td>\n",
       "      <td>0.919556</td>\n",
       "      <td>...</td>\n",
       "      <td>3/30/04</td>\n",
       "      <td>90.0</td>\n",
       "      <td>[{'iso_639_1': 'cs', 'name': 'Český'}]</td>\n",
       "      <td>Released</td>\n",
       "      <td>NaN</td>\n",
       "      <td>Czech Dream</td>\n",
       "      <td>[{'id': 1004, 'name': 'commercial'}, {'id': 15...</td>\n",
       "      <td>[{'cast_id': 3, 'character': 'himself', 'credi...</td>\n",
       "      <td>[{'credit_id': '52fe45439251416c9102c54b', 'de...</td>\n",
       "      <td>17393</td>\n",
       "    </tr>\n",
       "    <tr>\n",
       "      <th>52</th>\n",
       "      <td>53</td>\n",
       "      <td>NaN</td>\n",
       "      <td>0</td>\n",
       "      <td>[{'id': 12, 'name': 'Adventure'}, {'id': 10751...</td>\n",
       "      <td>NaN</td>\n",
       "      <td>tt0081031</td>\n",
       "      <td>en</td>\n",
       "      <td>The Last Flight of Noah's Ark</td>\n",
       "      <td>The only chance to escape a desert island is t...</td>\n",
       "      <td>1.012665</td>\n",
       "      <td>...</td>\n",
       "      <td>6/24/80</td>\n",
       "      <td>97.0</td>\n",
       "      <td>[{'iso_639_1': 'en', 'name': 'English'}]</td>\n",
       "      <td>Released</td>\n",
       "      <td>Lost. 2,000 miles at sea in a 40 year old bomber.</td>\n",
       "      <td>The Last Flight of Noah's Ark</td>\n",
       "      <td>[{'id': 9963, 'name': 'kids and family'}, {'id...</td>\n",
       "      <td>[{'cast_id': 6, 'character': 'Noah Dugan', 'cr...</td>\n",
       "      <td>[{'credit_id': '52fe45929251416c91036f5f', 'de...</td>\n",
       "      <td>11000000</td>\n",
       "    </tr>\n",
       "    <tr>\n",
       "      <th>107</th>\n",
       "      <td>108</td>\n",
       "      <td>NaN</td>\n",
       "      <td>72000000</td>\n",
       "      <td>[{'id': 28, 'name': 'Action'}, {'id': 18, 'nam...</td>\n",
       "      <td>NaN</td>\n",
       "      <td>tt0112573</td>\n",
       "      <td>en</td>\n",
       "      <td>Braveheart</td>\n",
       "      <td>Enraged at the slaughter of Murron, his new br...</td>\n",
       "      <td>20.755149</td>\n",
       "      <td>...</td>\n",
       "      <td>5/24/95</td>\n",
       "      <td>177.0</td>\n",
       "      <td>[{'iso_639_1': 'en', 'name': 'English'}, {'iso...</td>\n",
       "      <td>Released</td>\n",
       "      <td>Every man dies. Not every man truly lives.</td>\n",
       "      <td>Braveheart</td>\n",
       "      <td>[{'id': 30, 'name': 'individual'}, {'id': 388,...</td>\n",
       "      <td>[{'cast_id': 5, 'character': 'William Wallace'...</td>\n",
       "      <td>[{'credit_id': '52fe4225c3a36847f80079c1', 'de...</td>\n",
       "      <td>210000000</td>\n",
       "    </tr>\n",
       "    <tr>\n",
       "      <th>416</th>\n",
       "      <td>417</td>\n",
       "      <td>NaN</td>\n",
       "      <td>0</td>\n",
       "      <td>[{'id': 18, 'name': 'Drama'}]</td>\n",
       "      <td>http://www.departures-themovie.com/</td>\n",
       "      <td>tt1069238</td>\n",
       "      <td>ja</td>\n",
       "      <td>おくりびと</td>\n",
       "      <td>Daigo, a cellist, is laid off from his orchest...</td>\n",
       "      <td>8.175019</td>\n",
       "      <td>...</td>\n",
       "      <td>9/13/08</td>\n",
       "      <td>130.0</td>\n",
       "      <td>[{'iso_639_1': 'ja', 'name': '日本語'}]</td>\n",
       "      <td>Released</td>\n",
       "      <td>NaN</td>\n",
       "      <td>Departures</td>\n",
       "      <td>[{'id': 3089, 'name': 'oscar award'}, {'id': 3...</td>\n",
       "      <td>[{'cast_id': 3, 'character': 'Daigo Kobayashi'...</td>\n",
       "      <td>[{'credit_id': '57851873925141047e002376', 'de...</td>\n",
       "      <td>69932387</td>\n",
       "    </tr>\n",
       "  </tbody>\n",
       "</table>\n",
       "<p>5 rows × 23 columns</p>\n",
       "</div>"
      ],
      "text/plain": [
       "      id belongs_to_collection    budget  \\\n",
       "140  141                   NaN  14320000   \n",
       "73    74                   NaN         0   \n",
       "52    53                   NaN         0   \n",
       "107  108                   NaN  72000000   \n",
       "416  417                   NaN         0   \n",
       "\n",
       "                                                genres  \\\n",
       "140  [{'id': 18, 'name': 'Drama'}, {'id': 10402, 'n...   \n",
       "73   [{'id': 80, 'name': 'Crime'}, {'id': 99, 'name...   \n",
       "52   [{'id': 12, 'name': 'Adventure'}, {'id': 10751...   \n",
       "107  [{'id': 28, 'name': 'Action'}, {'id': 18, 'nam...   \n",
       "416                      [{'id': 18, 'name': 'Drama'}]   \n",
       "\n",
       "                                              homepage    imdb_id  \\\n",
       "140                                                NaN  tt0063642   \n",
       "73   http://www.ceskatelevize.cz/specialy/ceskysen/en/  tt0402906   \n",
       "52                                                 NaN  tt0081031   \n",
       "107                                                NaN  tt0112573   \n",
       "416                http://www.departures-themovie.com/  tt1069238   \n",
       "\n",
       "    original_language                 original_title  \\\n",
       "140                en                          Star!   \n",
       "73                 cs                      Český sen   \n",
       "52                 en  The Last Flight of Noah's Ark   \n",
       "107                en                     Braveheart   \n",
       "416                ja                          おくりびと   \n",
       "\n",
       "                                              overview  popularity  ...  \\\n",
       "140  Gertrude Lawrence rises to stage stardom at th...    0.585397  ...   \n",
       "73   Two students from the Czech Film Academy commi...    0.919556  ...   \n",
       "52   The only chance to escape a desert island is t...    1.012665  ...   \n",
       "107  Enraged at the slaughter of Murron, his new br...   20.755149  ...   \n",
       "416  Daigo, a cellist, is laid off from his orchest...    8.175019  ...   \n",
       "\n",
       "    release_date runtime                                   spoken_languages  \\\n",
       "140      7/18/68   176.0           [{'iso_639_1': 'en', 'name': 'English'}]   \n",
       "73       3/30/04    90.0             [{'iso_639_1': 'cs', 'name': 'Český'}]   \n",
       "52       6/24/80    97.0           [{'iso_639_1': 'en', 'name': 'English'}]   \n",
       "107      5/24/95   177.0  [{'iso_639_1': 'en', 'name': 'English'}, {'iso...   \n",
       "416      9/13/08   130.0               [{'iso_639_1': 'ja', 'name': '日本語'}]   \n",
       "\n",
       "       status                                            tagline  \\\n",
       "140  Released                  Happiness is a girl called Julie!   \n",
       "73   Released                                                NaN   \n",
       "52   Released  Lost. 2,000 miles at sea in a 40 year old bomber.   \n",
       "107  Released         Every man dies. Not every man truly lives.   \n",
       "416  Released                                                NaN   \n",
       "\n",
       "                             title  \\\n",
       "140                          Star!   \n",
       "73                     Czech Dream   \n",
       "52   The Last Flight of Noah's Ark   \n",
       "107                     Braveheart   \n",
       "416                     Departures   \n",
       "\n",
       "                                              Keywords  \\\n",
       "140  [{'id': 4344, 'name': 'musical'}, {'id': 12990...   \n",
       "73   [{'id': 1004, 'name': 'commercial'}, {'id': 15...   \n",
       "52   [{'id': 9963, 'name': 'kids and family'}, {'id...   \n",
       "107  [{'id': 30, 'name': 'individual'}, {'id': 388,...   \n",
       "416  [{'id': 3089, 'name': 'oscar award'}, {'id': 3...   \n",
       "\n",
       "                                                  cast  \\\n",
       "140  [{'cast_id': 3, 'character': 'Gertrude Lawrenc...   \n",
       "73   [{'cast_id': 3, 'character': 'himself', 'credi...   \n",
       "52   [{'cast_id': 6, 'character': 'Noah Dugan', 'cr...   \n",
       "107  [{'cast_id': 5, 'character': 'William Wallace'...   \n",
       "416  [{'cast_id': 3, 'character': 'Daigo Kobayashi'...   \n",
       "\n",
       "                                                  crew    revenue  \n",
       "140  [{'credit_id': '52fe484bc3a36847f81602c9', 'de...   14000000  \n",
       "73   [{'credit_id': '52fe45439251416c9102c54b', 'de...      17393  \n",
       "52   [{'credit_id': '52fe45929251416c91036f5f', 'de...   11000000  \n",
       "107  [{'credit_id': '52fe4225c3a36847f80079c1', 'de...  210000000  \n",
       "416  [{'credit_id': '57851873925141047e002376', 'de...   69932387  \n",
       "\n",
       "[5 rows x 23 columns]"
      ]
     },
     "execution_count": 90,
     "metadata": {},
     "output_type": "execute_result"
    }
   ],
   "source": [
    "dataframe.loc[films_sorted_1,:].head()"
   ]
  },
  {
   "cell_type": "markdown",
   "metadata": {},
   "source": [
    "E ora i film con migliore predizione."
   ]
  },
  {
   "cell_type": "code",
   "execution_count": 96,
   "metadata": {},
   "outputs": [
    {
     "data": {
      "text/html": [
       "<div>\n",
       "<style scoped>\n",
       "    .dataframe tbody tr th:only-of-type {\n",
       "        vertical-align: middle;\n",
       "    }\n",
       "\n",
       "    .dataframe tbody tr th {\n",
       "        vertical-align: top;\n",
       "    }\n",
       "\n",
       "    .dataframe thead th {\n",
       "        text-align: right;\n",
       "    }\n",
       "</style>\n",
       "<table border=\"1\" class=\"dataframe\">\n",
       "  <thead>\n",
       "    <tr style=\"text-align: right;\">\n",
       "      <th></th>\n",
       "      <th>id</th>\n",
       "      <th>belongs_to_collection</th>\n",
       "      <th>budget</th>\n",
       "      <th>genres</th>\n",
       "      <th>homepage</th>\n",
       "      <th>imdb_id</th>\n",
       "      <th>original_language</th>\n",
       "      <th>original_title</th>\n",
       "      <th>overview</th>\n",
       "      <th>popularity</th>\n",
       "      <th>...</th>\n",
       "      <th>release_date</th>\n",
       "      <th>runtime</th>\n",
       "      <th>spoken_languages</th>\n",
       "      <th>status</th>\n",
       "      <th>tagline</th>\n",
       "      <th>title</th>\n",
       "      <th>Keywords</th>\n",
       "      <th>cast</th>\n",
       "      <th>crew</th>\n",
       "      <th>revenue</th>\n",
       "    </tr>\n",
       "  </thead>\n",
       "  <tbody>\n",
       "    <tr>\n",
       "      <th>460</th>\n",
       "      <td>461</td>\n",
       "      <td>NaN</td>\n",
       "      <td>0</td>\n",
       "      <td>[{'id': 36, 'name': 'History'}, {'id': 18, 'na...</td>\n",
       "      <td>NaN</td>\n",
       "      <td>tt0090576</td>\n",
       "      <td>nl</td>\n",
       "      <td>De Aanslag</td>\n",
       "      <td>At the end of WW II the Dutch resistance kills...</td>\n",
       "      <td>1.899468</td>\n",
       "      <td>...</td>\n",
       "      <td>2/6/86</td>\n",
       "      <td>124.0</td>\n",
       "      <td>[{'iso_639_1': 'nl', 'name': 'Nederlands'}, {'...</td>\n",
       "      <td>Released</td>\n",
       "      <td>NaN</td>\n",
       "      <td>The Assault</td>\n",
       "      <td>[{'id': 434, 'name': 'destruction of a civiliz...</td>\n",
       "      <td>[{'cast_id': 4, 'character': 'Anton Steenwijk'...</td>\n",
       "      <td>[{'credit_id': '52fe436ac3a36847f8052719', 'de...</td>\n",
       "      <td>203781</td>\n",
       "    </tr>\n",
       "    <tr>\n",
       "      <th>93</th>\n",
       "      <td>94</td>\n",
       "      <td>NaN</td>\n",
       "      <td>0</td>\n",
       "      <td>[{'id': 18, 'name': 'Drama'}, {'id': 36, 'name...</td>\n",
       "      <td>NaN</td>\n",
       "      <td>tt0986233</td>\n",
       "      <td>en</td>\n",
       "      <td>Hunger</td>\n",
       "      <td>The story of Bobby Sands, the IRA member who l...</td>\n",
       "      <td>14.322814</td>\n",
       "      <td>...</td>\n",
       "      <td>5/15/08</td>\n",
       "      <td>96.0</td>\n",
       "      <td>[{'iso_639_1': 'en', 'name': 'English'}]</td>\n",
       "      <td>Released</td>\n",
       "      <td>An odyssey, in which the smallest gestures bec...</td>\n",
       "      <td>Hunger</td>\n",
       "      <td>[{'id': 378, 'name': 'prison'}, {'id': 1563, '...</td>\n",
       "      <td>[{'cast_id': 6, 'character': 'Bobby Sands', 'c...</td>\n",
       "      <td>[{'credit_id': '52fe43609251416c7500df61', 'de...</td>\n",
       "      <td>2724474</td>\n",
       "    </tr>\n",
       "    <tr>\n",
       "      <th>567</th>\n",
       "      <td>568</td>\n",
       "      <td>NaN</td>\n",
       "      <td>40000000</td>\n",
       "      <td>[{'id': 28, 'name': 'Action'}, {'id': 35, 'nam...</td>\n",
       "      <td>http://www.oneforthemoneyfilm.com/index2.html</td>\n",
       "      <td>tt1598828</td>\n",
       "      <td>en</td>\n",
       "      <td>One for the Money</td>\n",
       "      <td>An unemployed lingerie buyer convinces her bai...</td>\n",
       "      <td>6.322435</td>\n",
       "      <td>...</td>\n",
       "      <td>1/26/12</td>\n",
       "      <td>91.0</td>\n",
       "      <td>[{'iso_639_1': 'en', 'name': 'English'}]</td>\n",
       "      <td>Released</td>\n",
       "      <td>She's looking for a few not-so-good men</td>\n",
       "      <td>One for the Money</td>\n",
       "      <td>[{'id': 801, 'name': 'bounty hunter'}, {'id': ...</td>\n",
       "      <td>[{'cast_id': 3, 'character': 'Stephanie Plum',...</td>\n",
       "      <td>[{'credit_id': '52fe4888c3a36847f816c713', 'de...</td>\n",
       "      <td>36893721</td>\n",
       "    </tr>\n",
       "    <tr>\n",
       "      <th>293</th>\n",
       "      <td>294</td>\n",
       "      <td>NaN</td>\n",
       "      <td>0</td>\n",
       "      <td>[{'id': 28, 'name': 'Action'}, {'id': 18, 'nam...</td>\n",
       "      <td>NaN</td>\n",
       "      <td>tt0119815</td>\n",
       "      <td>pt</td>\n",
       "      <td>O Que é Isso, Companheiro?</td>\n",
       "      <td>Fernando, a journalist, and his friend César j...</td>\n",
       "      <td>1.791965</td>\n",
       "      <td>...</td>\n",
       "      <td>5/1/97</td>\n",
       "      <td>110.0</td>\n",
       "      <td>[{'iso_639_1': 'en', 'name': 'English'}, {'iso...</td>\n",
       "      <td>Released</td>\n",
       "      <td>Their goal: freedom. Their only hope: an inter...</td>\n",
       "      <td>Four Days in September</td>\n",
       "      <td>[{'id': 441, 'name': 'assassination'}, {'id': ...</td>\n",
       "      <td>[{'cast_id': 1, 'character': 'Charles Burke El...</td>\n",
       "      <td>[{'credit_id': '52fe4412c3a368484e00dafd', 'de...</td>\n",
       "      <td>310724</td>\n",
       "    </tr>\n",
       "    <tr>\n",
       "      <th>381</th>\n",
       "      <td>382</td>\n",
       "      <td>NaN</td>\n",
       "      <td>74500000</td>\n",
       "      <td>[{'id': 12, 'name': 'Adventure'}, {'id': 18, '...</td>\n",
       "      <td>NaN</td>\n",
       "      <td>tt0338512</td>\n",
       "      <td>en</td>\n",
       "      <td>Deux frères</td>\n",
       "      <td>Two tigers are separated as cubs and taken int...</td>\n",
       "      <td>5.300303</td>\n",
       "      <td>...</td>\n",
       "      <td>4/7/04</td>\n",
       "      <td>109.0</td>\n",
       "      <td>[{'iso_639_1': 'en', 'name': 'English'}, {'iso...</td>\n",
       "      <td>Released</td>\n",
       "      <td>Two infant tiger cubs, separated from their pa...</td>\n",
       "      <td>Two Brothers</td>\n",
       "      <td>[{'id': 380, 'name': 'brother brother relation...</td>\n",
       "      <td>[{'cast_id': 11, 'character': 'Na√Ø-Rea', 'cre...</td>\n",
       "      <td>[{'credit_id': '52fe432ac3a36847f803f4c5', 'de...</td>\n",
       "      <td>62172050</td>\n",
       "    </tr>\n",
       "  </tbody>\n",
       "</table>\n",
       "<p>5 rows × 23 columns</p>\n",
       "</div>"
      ],
      "text/plain": [
       "      id belongs_to_collection    budget  \\\n",
       "460  461                   NaN         0   \n",
       "93    94                   NaN         0   \n",
       "567  568                   NaN  40000000   \n",
       "293  294                   NaN         0   \n",
       "381  382                   NaN  74500000   \n",
       "\n",
       "                                                genres  \\\n",
       "460  [{'id': 36, 'name': 'History'}, {'id': 18, 'na...   \n",
       "93   [{'id': 18, 'name': 'Drama'}, {'id': 36, 'name...   \n",
       "567  [{'id': 28, 'name': 'Action'}, {'id': 35, 'nam...   \n",
       "293  [{'id': 28, 'name': 'Action'}, {'id': 18, 'nam...   \n",
       "381  [{'id': 12, 'name': 'Adventure'}, {'id': 18, '...   \n",
       "\n",
       "                                          homepage    imdb_id  \\\n",
       "460                                            NaN  tt0090576   \n",
       "93                                             NaN  tt0986233   \n",
       "567  http://www.oneforthemoneyfilm.com/index2.html  tt1598828   \n",
       "293                                            NaN  tt0119815   \n",
       "381                                            NaN  tt0338512   \n",
       "\n",
       "    original_language              original_title  \\\n",
       "460                nl                  De Aanslag   \n",
       "93                 en                      Hunger   \n",
       "567                en           One for the Money   \n",
       "293                pt  O Que é Isso, Companheiro?   \n",
       "381                en                 Deux frères   \n",
       "\n",
       "                                              overview  popularity  ...  \\\n",
       "460  At the end of WW II the Dutch resistance kills...    1.899468  ...   \n",
       "93   The story of Bobby Sands, the IRA member who l...   14.322814  ...   \n",
       "567  An unemployed lingerie buyer convinces her bai...    6.322435  ...   \n",
       "293  Fernando, a journalist, and his friend César j...    1.791965  ...   \n",
       "381  Two tigers are separated as cubs and taken int...    5.300303  ...   \n",
       "\n",
       "    release_date runtime                                   spoken_languages  \\\n",
       "460       2/6/86   124.0  [{'iso_639_1': 'nl', 'name': 'Nederlands'}, {'...   \n",
       "93       5/15/08    96.0           [{'iso_639_1': 'en', 'name': 'English'}]   \n",
       "567      1/26/12    91.0           [{'iso_639_1': 'en', 'name': 'English'}]   \n",
       "293       5/1/97   110.0  [{'iso_639_1': 'en', 'name': 'English'}, {'iso...   \n",
       "381       4/7/04   109.0  [{'iso_639_1': 'en', 'name': 'English'}, {'iso...   \n",
       "\n",
       "       status                                            tagline  \\\n",
       "460  Released                                                NaN   \n",
       "93   Released  An odyssey, in which the smallest gestures bec...   \n",
       "567  Released            She's looking for a few not-so-good men   \n",
       "293  Released  Their goal: freedom. Their only hope: an inter...   \n",
       "381  Released  Two infant tiger cubs, separated from their pa...   \n",
       "\n",
       "                      title  \\\n",
       "460             The Assault   \n",
       "93                   Hunger   \n",
       "567       One for the Money   \n",
       "293  Four Days in September   \n",
       "381            Two Brothers   \n",
       "\n",
       "                                              Keywords  \\\n",
       "460  [{'id': 434, 'name': 'destruction of a civiliz...   \n",
       "93   [{'id': 378, 'name': 'prison'}, {'id': 1563, '...   \n",
       "567  [{'id': 801, 'name': 'bounty hunter'}, {'id': ...   \n",
       "293  [{'id': 441, 'name': 'assassination'}, {'id': ...   \n",
       "381  [{'id': 380, 'name': 'brother brother relation...   \n",
       "\n",
       "                                                  cast  \\\n",
       "460  [{'cast_id': 4, 'character': 'Anton Steenwijk'...   \n",
       "93   [{'cast_id': 6, 'character': 'Bobby Sands', 'c...   \n",
       "567  [{'cast_id': 3, 'character': 'Stephanie Plum',...   \n",
       "293  [{'cast_id': 1, 'character': 'Charles Burke El...   \n",
       "381  [{'cast_id': 11, 'character': 'Na√Ø-Rea', 'cre...   \n",
       "\n",
       "                                                  crew   revenue  \n",
       "460  [{'credit_id': '52fe436ac3a36847f8052719', 'de...    203781  \n",
       "93   [{'credit_id': '52fe43609251416c7500df61', 'de...   2724474  \n",
       "567  [{'credit_id': '52fe4888c3a36847f816c713', 'de...  36893721  \n",
       "293  [{'credit_id': '52fe4412c3a368484e00dafd', 'de...    310724  \n",
       "381  [{'credit_id': '52fe432ac3a36847f803f4c5', 'de...  62172050  \n",
       "\n",
       "[5 rows x 23 columns]"
      ]
     },
     "execution_count": 96,
     "metadata": {},
     "output_type": "execute_result"
    }
   ],
   "source": [
    "dataframe.loc[films_sorted_1[::-1],:].head()"
   ]
  },
  {
   "cell_type": "markdown",
   "metadata": {},
   "source": [
    "In entrambi sembrano esserci molti film con budget nullo/non significativo. Forse aver rimpiazzato il budget con valore medio ha sporcato un poco il dataset."
   ]
  },
  {
   "cell_type": "markdown",
   "metadata": {},
   "source": [
    "Indaghiamo innanzitutto l'andamento del revenue rispetto ai film predetti meglio/peggio."
   ]
  },
  {
   "cell_type": "code",
   "execution_count": 108,
   "metadata": {},
   "outputs": [
    {
     "data": {
      "text/plain": [
       "<matplotlib.legend.Legend at 0x157927f53a0>"
      ]
     },
     "execution_count": 108,
     "metadata": {},
     "output_type": "execute_result"
    },
    {
     "data": {
      "image/png": "[encoded data removed]",
      "text/plain": [
       "<Figure size 360x360 with 1 Axes>"
      ]
     },
     "metadata": {
      "needs_background": "light"
     },
     "output_type": "display_data"
    }
   ],
   "source": [
    "%matplotlib inline\n",
    "\n",
    "import matplotlib.pyplot as plt\n",
    "\n",
    "fig, ax = plt.subplots( figsize=(5,5))\n",
    "\n",
    "ax.scatter(range(y_test.shape[0]),y_test[films_sorted],label=\"film\")\n",
    "ax.set_xlabel(\"film ordinati per bontà predizione crescente\")\n",
    "ax.set_ylabel(\"revenue\")\n",
    "ax.set_title(\"Revenue dei film ordinati rispetto bontà predizione\")\n",
    "ax.legend()"
   ]
  },
  {
   "cell_type": "markdown",
   "metadata": {},
   "source": [
    "Come si vede, i film predetti peggio tendono ad avere revenue più alto.\n",
    "\n",
    "Andiamo ora ad indagare tutte le altre features. "
   ]
  },
  {
   "cell_type": "code",
   "execution_count": 88,
   "metadata": {},
   "outputs": [],
   "source": [
    "# Splittiamo il dataframe allo stesso modo in cui abbiamo splittato X e y\n",
    "df_train, df_test = train_test_split(df,test_size=0.2, random_state=123)"
   ]
  },
  {
   "cell_type": "markdown",
   "metadata": {},
   "source": [
    "Confrontiamo per ciascuna feature valore medio del test set completo, valore medio dei 50 film predetti peggio e valore medio dei 50 film predetti meglio."
   ]
  },
  {
   "cell_type": "code",
   "execution_count": 106,
   "metadata": {},
   "outputs": [
    {
     "name": "stdout",
     "output_type": "stream",
     "text": [
      "Feature  budget , valore medio.\n",
      "Test set completo:  30250135.33506113\n",
      "20 film con peggiore predizione:  32531705.406836554\n",
      "20 film con migliore predizione:  24838674.8530547\n",
      "\n",
      "Feature  budget_dummy , valore medio.\n",
      "Test set completo:  0.2563667232597623\n",
      "20 film con peggiore predizione:  0.32\n",
      "20 film con migliore predizione:  0.26\n",
      "\n",
      "Feature  popularity , valore medio.\n",
      "Test set completo:  8.620247977928697\n",
      "20 film con peggiore predizione:  7.958092939999998\n",
      "20 film con migliore predizione:  8.346747419999996\n",
      "\n",
      "Feature  runtime , valore medio.\n",
      "Test set completo:  108.46020231502514\n",
      "20 film con peggiore predizione:  109.50059163549813\n",
      "20 film con migliore predizione:  103.16059163549814\n",
      "\n",
      "Feature  belongs_to_collection , valore medio.\n",
      "Test set completo:  0.21561969439728354\n",
      "20 film con peggiore predizione:  0.22\n",
      "20 film con migliore predizione:  0.22\n",
      "\n",
      "Feature  homepage , valore medio.\n",
      "Test set completo:  0.29711375212224106\n",
      "20 film con peggiore predizione:  0.34\n",
      "20 film con migliore predizione:  0.28\n",
      "\n",
      "Feature  original_language , valore medio.\n",
      "Test set completo:  0.8709677419354839\n",
      "20 film con peggiore predizione:  0.86\n",
      "20 film con migliore predizione:  0.88\n",
      "\n",
      "Feature  year , valore medio.\n",
      "Test set completo:  2000.213921901528\n",
      "20 film con peggiore predizione:  1999.28\n",
      "20 film con migliore predizione:  2000.56\n",
      "\n",
      "Feature  month_group_1 , valore medio.\n",
      "Test set completo:  0.3140916808149406\n",
      "20 film con peggiore predizione:  0.3\n",
      "20 film con migliore predizione:  0.28\n",
      "\n",
      "Feature  month_group_2 , valore medio.\n",
      "Test set completo:  0.31069609507640067\n",
      "20 film con peggiore predizione:  0.2\n",
      "20 film con migliore predizione:  0.36\n",
      "\n",
      "Feature  month_group_3 , valore medio.\n",
      "Test set completo:  0.37521222410865873\n",
      "20 film con peggiore predizione:  0.5\n",
      "20 film con migliore predizione:  0.36\n",
      "\n",
      "Feature  Drama , valore medio.\n",
      "Test set completo:  0.5229202037351444\n",
      "20 film con peggiore predizione:  0.4\n",
      "20 film con migliore predizione:  0.58\n",
      "\n",
      "Feature  Comedy , valore medio.\n",
      "Test set completo:  0.34295415959252973\n",
      "20 film con peggiore predizione:  0.32\n",
      "20 film con migliore predizione:  0.38\n",
      "\n",
      "Feature  Thriller , valore medio.\n",
      "Test set completo:  0.2733446519524618\n",
      "20 film con peggiore predizione:  0.28\n",
      "20 film con migliore predizione:  0.16\n",
      "\n",
      "Feature  Action , valore medio.\n",
      "Test set completo:  0.23089983022071306\n",
      "20 film con peggiore predizione:  0.22\n",
      "20 film con migliore predizione:  0.26\n",
      "\n",
      "Feature  Romance , valore medio.\n",
      "Test set completo:  0.1833616298811545\n",
      "20 film con peggiore predizione:  0.2\n",
      "20 film con migliore predizione:  0.18\n",
      "\n",
      "Feature  Crime , valore medio.\n",
      "Test set completo:  0.16298811544991512\n",
      "20 film con peggiore predizione:  0.12\n",
      "20 film con migliore predizione:  0.08\n",
      "\n",
      "Feature  Adventure , valore medio.\n",
      "Test set completo:  0.12563667232597622\n",
      "20 film con peggiore predizione:  0.2\n",
      "20 film con migliore predizione:  0.12\n",
      "\n",
      "Feature  Horror , valore medio.\n",
      "Test set completo:  0.08828522920203735\n",
      "20 film con peggiore predizione:  0.06\n",
      "20 film con migliore predizione:  0.1\n",
      "\n",
      "Feature  Science Fiction , valore medio.\n",
      "Test set completo:  0.0967741935483871\n",
      "20 film con peggiore predizione:  0.08\n",
      "20 film con migliore predizione:  0.08\n",
      "\n",
      "Feature  other_genre , valore medio.\n",
      "Test set completo:  0.38030560271646857\n",
      "20 film con peggiore predizione:  0.4\n",
      "20 film con migliore predizione:  0.4\n",
      "\n",
      "Feature  woman director , valore medio.\n",
      "Test set completo:  0.05602716468590832\n",
      "20 film con peggiore predizione:  0.02\n",
      "20 film con migliore predizione:  0.12\n",
      "\n",
      "Feature  duringcreditsstinger , valore medio.\n",
      "Test set completo:  0.05432937181663837\n",
      "20 film con peggiore predizione:  0.02\n",
      "20 film con migliore predizione:  0.08\n",
      "\n",
      "Feature  based on novel , valore medio.\n",
      "Test set completo:  0.03395585738539898\n",
      "20 film con peggiore predizione:  0.06\n",
      "20 film con migliore predizione:  0.08\n",
      "\n",
      "Feature  violence , valore medio.\n",
      "Test set completo:  0.030560271646859084\n",
      "20 film con peggiore predizione:  0.04\n",
      "20 film con migliore predizione:  0.0\n",
      "\n",
      "Feature  sport , valore medio.\n",
      "Test set completo:  0.03395585738539898\n",
      "20 film con peggiore predizione:  0.02\n",
      "20 film con migliore predizione:  0.04\n",
      "\n",
      "Feature  biography , valore medio.\n",
      "Test set completo:  0.022071307300509338\n",
      "20 film con peggiore predizione:  0.0\n",
      "20 film con migliore predizione:  0.02\n",
      "\n",
      "Feature  Samuel L. Jackson , valore medio.\n",
      "Test set completo:  0.003395585738539898\n",
      "20 film con peggiore predizione:  0.0\n",
      "20 film con migliore predizione:  0.0\n",
      "\n",
      "Feature  Morgan Freeman , valore medio.\n",
      "Test set completo:  0.006791171477079796\n",
      "20 film con peggiore predizione:  0.02\n",
      "20 film con migliore predizione:  0.0\n",
      "\n",
      "Feature  J.K. Simmons , valore medio.\n",
      "Test set completo:  0.0050933786078098476\n",
      "20 film con peggiore predizione:  0.0\n",
      "20 film con migliore predizione:  0.04\n",
      "\n",
      "Feature  Bruce Willis , valore medio.\n",
      "Test set completo:  0.011884550084889643\n",
      "20 film con peggiore predizione:  0.0\n",
      "20 film con migliore predizione:  0.0\n",
      "\n",
      "Feature  John Turturro , valore medio.\n",
      "Test set completo:  0.02037351443123939\n",
      "20 film con peggiore predizione:  0.0\n",
      "20 film con migliore predizione:  0.0\n",
      "\n",
      "Feature  Willem Dafoe , valore medio.\n",
      "Test set completo:  0.008488964346349746\n",
      "20 film con peggiore predizione:  0.0\n",
      "20 film con migliore predizione:  0.0\n",
      "\n",
      "Feature  Deborah Aquila , valore medio.\n",
      "Test set completo:  0.01867572156196944\n",
      "20 film con peggiore predizione:  0.02\n",
      "20 film con migliore predizione:  0.04\n",
      "\n",
      "Feature  James Newton Howard , valore medio.\n",
      "Test set completo:  0.008488964346349746\n",
      "20 film con peggiore predizione:  0.02\n",
      "20 film con migliore predizione:  0.02\n",
      "\n",
      "Feature  Jerry Goldsmith , valore medio.\n",
      "Test set completo:  0.010186757215619695\n",
      "20 film con peggiore predizione:  0.02\n",
      "20 film con migliore predizione:  0.0\n",
      "\n",
      "Feature  Mary Vernieu , valore medio.\n",
      "Test set completo:  0.010186757215619695\n",
      "20 film con peggiore predizione:  0.0\n",
      "20 film con migliore predizione:  0.0\n",
      "\n",
      "Feature  2_title , valore medio.\n",
      "Test set completo:  0.028862478777589132\n",
      "20 film con peggiore predizione:  0.04\n",
      "20 film con migliore predizione:  0.0\n",
      "\n",
      "Feature  last_title , valore medio.\n",
      "Test set completo:  0.011884550084889643\n",
      "20 film con peggiore predizione:  0.04\n",
      "20 film con migliore predizione:  0.02\n",
      "\n",
      "Feature  one_tagline , valore medio.\n",
      "Test set completo:  0.07809847198641766\n",
      "20 film con peggiore predizione:  0.04\n",
      "20 film con migliore predizione:  0.1\n",
      "\n",
      "Feature  love_tagline , valore medio.\n",
      "Test set completo:  0.057724957555178265\n",
      "20 film con peggiore predizione:  0.06\n",
      "20 film con migliore predizione:  0.04\n",
      "\n",
      "Feature  life_tagline , valore medio.\n",
      "Test set completo:  0.03225806451612903\n",
      "20 film con peggiore predizione:  0.02\n",
      "20 film con migliore predizione:  0.0\n",
      "\n",
      "Feature  story_tagline , valore medio.\n",
      "Test set completo:  0.028862478777589132\n",
      "20 film con peggiore predizione:  0.08\n",
      "20 film con migliore predizione:  0.04\n",
      "\n",
      "Feature  world_tagline , valore medio.\n",
      "Test set completo:  0.03395585738539898\n",
      "20 film con peggiore predizione:  0.0\n",
      "20 film con migliore predizione:  0.02\n",
      "\n",
      "Feature  get_tagline , valore medio.\n",
      "Test set completo:  0.030560271646859084\n",
      "20 film con peggiore predizione:  0.04\n",
      "20 film con migliore predizione:  0.04\n",
      "\n",
      "Feature  life_overview , valore medio.\n",
      "Test set completo:  0.16808149405772496\n",
      "20 film con peggiore predizione:  0.16\n",
      "20 film con migliore predizione:  0.2\n",
      "\n",
      "Feature  find_overview , valore medio.\n",
      "Test set completo:  0.14770797962648557\n",
      "20 film con peggiore predizione:  0.1\n",
      "20 film con migliore predizione:  0.14\n",
      "\n",
      "Feature  young_overview , valore medio.\n",
      "Test set completo:  0.13752122241086587\n",
      "20 film con peggiore predizione:  0.1\n",
      "20 film con migliore predizione:  0.1\n",
      "\n"
     ]
    }
   ],
   "source": [
    "for col in df.columns:\n",
    "    print(\"Feature \",col,\", valore medio.\")\n",
    "    print(\"Test set completo: \",df_test[col].describe()[\"mean\"])\n",
    "    print(\"20 film con peggiore predizione: \",df.loc[films_sorted_1[:50],col].describe()[\"mean\"])\n",
    "    print(\"20 film con migliore predizione: \",df.loc[films_sorted_1[-50:],col].describe()[\"mean\"])\n",
    "    print()"
   ]
  },
  {
   "cell_type": "markdown",
   "metadata": {},
   "source": [
    "Si riesce ad estrarre una serie di informazioni indicative. Sono appunto solo indicazioni, vanno prese con le pinze.\n",
    "- Il budget medio dei film predetti meglio è minore della media, mentre il budget medio dei film predetti peggio è superiore alla media. C'è una tendenza a dare predizioni peggiori ai film con budget maggiore: ciò è in linea con quanto notato prima con il revenue (budget e revenue sono in qualche modo correlati). I film con predizioni peggiori hanno una percentuale maggiore di budget non significativi (\"budget_dummy\" uguali a 1) rispetto alla media. Forse rimpiazzando i budget non significativi con il budget medio ho sporcato in qualche modo il dataset.\n",
    "- I film con predizioni peggiori e i film con predizioni migliori sono tendenzialmente meno popolari. \n",
    "- I film con predizioni peggiori tendenzialmente hanno di più una homepage rispetto alla media\n",
    "- I film con predizioni peggiori tendono di più ad avere mese di uscita nei mesi di agosto, settembre, ottobre e gennaio (ultimi 4 mesi rispetto al revenue medio) e meno nei mesi di febbraio, marzo, aprile e novembre (4 mesi intermedi rispetto al revenue medio).\n",
    "- Tendenzialmente i film con predizioni migliore hanno maggiormente i generi \"Drama\" e \"Comedy\" e meno il genere \"Thriller\". I film con predizioni peggiori hanno tendenzialmente meno il genere \"Drama\".\n",
    "\n",
    "Tutte le altre features sono features dummy che compaiono in molti pochi film (percentuale minore del 20%). Non ha molto senso analizzarne la media e provare a intravedere qualche tendenza."
   ]
  }
 ],
 "metadata": {
  "kernelspec": {
   "display_name": "Python 3",
   "language": "python",
   "name": "python3"
  },
  "language_info": {
   "codemirror_mode": {
    "name": "ipython",
    "version": 3
   },
   "file_extension": ".py",
   "mimetype": "text/x-python",
   "name": "python",
   "nbconvert_exporter": "python",
   "pygments_lexer": "ipython3",
   "version": "3.8.3"
  }
 },
 "nbformat": 4,
 "nbformat_minor": 4
}
